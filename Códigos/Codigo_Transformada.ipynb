#Instalacion de paquetes y librerias
!pip install selenium #manejo en pagina web
!pip install pdfrw    #lectura pdfs
!pip install requests beautifulsoup4 #manejo pagina web
!pip install webdriver-manager #lectura del navegador web
!sudo apt update
!sudo apt install -y brave-browser
!pip install --upgrade webdriver-manager

#otras librerias
!sudo apt install -y apt-transport-https curl
!curl -fsSL https://brave-browser-apt-release.s3.brave.com/brave-core.asc | sudo gpg --dearmor -o /usr/share/keyrings/brave-browser-archive-keyring.gpg
!echo "deb [signed-by=/usr/share/keyrings/brave-browser-archive-keyring.gpg] https://brave-browser-apt-release.s3.brave.com/ stable main" | sudo tee /etc/apt/sources.list.d/brave-browser-release.list
!sudo apt update

!sudo apt install -y brave-browser

!which brave-browser

import os
brave_path = "/usr/bin/brave-browser"
print("Path exists:", os.path.exists(brave_path))
print("Is file:", os.path.isfile(brave_path))
print("Is executable:", os.access(brave_path, os.X_OK))

#Importacion de Librerias
import librosa
import IPython.display as ipd
import librosa.display
import matplotlib.pyplot as plt
import numpy as np
from IPython.display import display, Audio
import soundfile as sf
from numpy import pi
from scipy.fftpack import fft, fftfreq
import os
import pdfrw
import requests
from bs4 import BeautifulSoup
from selenium import webdriver
from selenium.webdriver.chrome.service import Service
from selenium.webdriver.chrome.options import Options
from webdriver_manager.chrome import ChromeDriverManager
import platform
from selenium.webdriver.common.by import By
import time
import timeit

!git clone https://github.com/Yangel300/BreathIA.git

#Lectura de Pdf

pdf = pdfrw.PdfReader('/content/BreathIA/Dataset/NO_SMOKERS/P0001_000.pdf')
new_pdf = pdfrw.PdfWriter()
print(pdf)
for page in pdf.pages:
    # Check if the page has any hyperlinks
    for annot in page.Annots or []:
        print(annot.A.URI)

print(type(pdf.pages[0]))
print(type(pdf.pages[0].Annots))
print(pdf.pages[0].Annots[0].A.URI)

print(page.Annots[0].A.URI)
print(timeit.timeit())

#Divison de audios
SMOKERS="/content/BreathIA/Dataset/SMOKERS"
NO_SMOKERS="/content/BreathIA/Dataset/NO_SMOKERS"
audios_no_smokers=[]
audios_smokers=[]
for patient in os.listdir(NO_SMOKERS):
  patient2=pdfrw.PdfReader(f"/content/BreathIA/Dataset/NO_SMOKERS/{patient}")
  patient2=patient2.pages[0].Annots[0].A.URI+patient
  audios_no_smokers.append(patient2)
for patient in os.listdir(SMOKERS):
  patient2=pdfrw.PdfReader(f"/content/BreathIA/Dataset/SMOKERS/{patient}")
  patient2=patient2.pages[0].Annots[0].A.URI+patient
  audios_smokers.append(patient2)
links_audios={"SMOKERS":audios_smokers,"NO_SMOKERS":audios_no_smokers}
print(len(links_audios["NO_SMOKERS"][7]),len(links_audios["NO_SMOKERS"][0]))
print(links_audios["NO_SMOKERS"])

#Alistamiento de webdfriver
def get_brave_path():
    system = platform.system()
    if system == "Windows":
        return "C:\\Program Files\\BraveSoftware\\Brave-Browser\\Application\\brave.exe"
    elif system == "Darwin":  # macOS
        return "/Applications/Brave Browser.app/Contents/MacOS/Brave Browser"
    elif system == "Linux":
        return "/usr/bin/brave-browser"
    else:
        raise Exception("Unsupported operating system")


brave_path=get_brave_path()
download_path = '/content/Data'
# Set up Selenium options for Brave
options = Options()
options.binary_location = brave_path
options.add_argument("--headless=new")  # Enable headless mode
options.add_argument("--disable-gpu")
options.add_argument("--no-sandbox")
options.add_argument("--disable-dev-shm-usage")
options.add_experimental_option("prefs", {
    "download.default_directory": download_path,  # Specify download directory
    "download.prompt_for_download": False,  # Disable the download prompt
    "download.directory_upgrade": True  # Allow Chrome to auto-override if directory exists
})

# Specify the exact version of ChromeDriver
chromedriver_version = "135.0.7049.52"
service = Service(ChromeDriverManager(driver_version=chromedriver_version).install())

# Initialize WebDriver
driver = webdriver.Chrome(service=service, options=options)

#Prueba 2.2 Descarga y organizacion de audios en estado fumador y no fumador
start_time = time.time()  # Start timing
download_path1 = '/content/Data/SMOKERS'
download_path2 = '/content/Data/NO_SMOKERS'
os.makedirs(download_path1, exist_ok=True)
os.makedirs(download_path2, exist_ok=True)
links_audios=links_audios

for i in links_audios:
  download_path=download_path1 if i=="SMOKERS" else download_path2
  options.add_experimental_option("prefs", {
    "download.default_directory": download_path,  # Specify download directory
    "download.prompt_for_download": False,  # Disable the download prompt
    "download.directory_upgrade": True  # Allow Chrome to auto-override if directory exists
  })
  for link in links_audios[i]:
    os.makedirs(download_path, exist_ok=True)
    driver = webdriver.Chrome(service=service, options=options)
    name=link[-13:-4]
    link=link[1:-14]
    print(link)
    print(name)
    driver.get(link)
    button = driver.find_element(By.XPATH, '//button[contains(text(), "Download Audio")]')
    button.click()
    print("Downloaded")
    time.sleep(1)
end_time = time.time()  # End timing
print(f"Total execution time: {end_time - start_time:.2f} seconds")

k=0
for i in os.listdir("/content/Data/NO_SMOKERS"):
  print(f"/content/Data/NO_SMOKERS/{i}")
  print(links_audios["NO_SMOKERS"][0][-13:-4])
  a=links_audios["NO_SMOKERS"][k][-13:-4]
  print(f"/content/Data/NO_SMOKERS/{a}.wav")
  os.rename(f"/content/Data/NO_SMOKERS/{i}",f"/content/Data/NO_SMOKERS/{a}.wav")
  k+=1
  #os.rename(f"/content/Data/NO_SMOKERS/{i}", f"/content/Data/No_Smokers/{links_audios['NO_SMOKERS'][i][-13:-4]}")

#os.rename("/content/Data/NO_SMOKERS/Eko Recording Sound Export 04_03_2025 2_40 PM (1).wav","/content/Data/NO_SMOKERS/P00.wav")

from selenium import webdriver
from selenium.webdriver.common.keys import Keys
from selenium.webdriver.common.by import By

print ("subir archivo de audio contenido en la carpeta entregada")
audio = "/content/Data/P0013_100.wav"
 #inicial
y,sr = librosa.load(audio) #Se define el audio como una señal de onda y sr referente al sample rate

def graph_audio(audio):
  y,sr=librosa.load(audio)
  dt=y.size/sr
  plt.figure()
  plt.subplot()
  plt.grid()
  plt.xlim(0.3,dt)
  plt.ylim(-0.08,0.081)
  librosa.display.waveshow(y, sr=sr)
  plt.xlabel('tiempo [s]')
  plt.ylabel('amplitud[/]')

print("NO_SMOKERS")
for i in os.listdir("/content/Data/NO_SMOKERS"):
  graph_audio(f"/content/Data/NO_SMOKERS/{i}")

Audiop1="/content/Data/NO_SMOKERS/Eko Recording Sound Export 04_01_2025 4_19 PM (1).wav"
graph_audio(Audiop1)
y,sr=librosa.load(Audiop1)
y=y[390000:440000]
dt=y.size/sr
plt.figure()
plt.subplot()
plt.grid()
plt.xlim(0.3,dt)
plt.ylim(-0.08,0.081)
librosa.display.waveshow(y, sr=sr, color="green")
plt.xlabel('tiempo [s]')
plt.ylabel('amplitud[/]')

X = np.fft.fft(y)

freq = np.fft.fftfreq(len(y), 1/sr)
n_oneside = len(X) // 2
plt.plot(freq,np.abs(X),color="red")
plt.xlabel('Freq (Hz)')
plt.ylabel('Amplitud')
plt.grid()
plt.xlim(0,200)
plt.show()
